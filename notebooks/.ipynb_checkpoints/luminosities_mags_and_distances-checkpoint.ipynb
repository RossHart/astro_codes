{
 "cells": [
  {
   "cell_type": "code",
   "execution_count": 1,
   "metadata": {
    "collapsed": true
   },
   "outputs": [],
   "source": []
  },
  {
   "cell_type": "code",
   "execution_count": 2,
   "metadata": {
    "collapsed": true
   },
   "outputs": [],
   "source": [
    "import sys\n",
    "sys.path.append('../../../astro_codes/')\n",
    "#------------------------------------\n",
    "from SFR_conversions import Mag_to_lum"
   ]
  },
  {
   "cell_type": "code",
   "execution_count": 34,
   "metadata": {
    "collapsed": false
   },
   "outputs": [],
   "source": [
    "from astropy.table import Table, column\n",
    "import numpy as np\n",
    "import astropy.units as u\n",
    "import astropy.constants as const\n",
    "\n",
    "def z_to_dist(z):\n",
    "    c = const.c\n",
    "    H_0 = 70*(u.km/u.s/u.Mpc)\n",
    "    D = (c/H_0*z).to(u.Mpc)\n",
    "    return D\n",
    "\n",
    "\n",
    "def dist_to_z(D):\n",
    "    c = const.c\n",
    "    H_0 = 70*(u.km/u.s/u.Mpc)\n",
    "    z = (H_0/c)*D\n",
    "    return z.to(u.dimensionless_unscaled)\n",
    "\n",
    "\n",
    "def mag_to_Mag(mag,z):\n",
    "    D = z_to_dist(z)\n",
    "    Mag = mag - 5*(np.log10(D/(u.pc))-1)\n",
    "    return Mag\n",
    "\n",
    "\n",
    "def Mag_to_mag(Mag,z):\n",
    "    D = z_to_dist(z)\n",
    "    Mag = Mag + 5*(np.log10(D/(u.pc))-1)\n",
    "    return Mag\n",
    "\n",
    "    \n",
    "def Mag_to_flux_density(Mag):\n",
    "    S = 3631*10**(Mag/-2.5)*u.Jy # AB -> flux density\n",
    "    L = S*(4*math.pi)*(10*u.pc)**2 # absolute magnitude = 10pc\n",
    "    return L.to(u.erg/u.s/u.Hz)\n",
    "\n",
    "\n",
    "def wavelength_to_frequency(wavelength):\n",
    "    c = const.c\n",
    "    frequency = (c/wavelength).to(u.Hz)\n",
    "    return frequency\n",
    "\n",
    "\n",
    "def Mag_to_lum(Mag,wavelength):\n",
    "    frequency = wavelength_to_frequency(wavelength*(u.Angstrom))\n",
    "    L_density = Mag_to_flux_density(Mag)\n",
    "    L = L_density*frequency\n",
    "    return L\n",
    "\n",
    "\n",
    "def lum_to_solar(L):\n",
    "    L_solar = 3.828e33*(u.erg/u.s)\n",
    "    logLsun = np.log10(L/L_solar)\n",
    "    return logLsun\n",
    "\n",
    "\n",
    "def lum_to_Mag(L,wavelength):\n",
    "    c = const.c\n",
    "    frequency = wavelength_to_frequency(wavelength*(u.Angstrom))\n",
    "    L_density = (L/frequency).to(u.erg/u.s/u.Hz)\n",
    "    S = (L_density/(4*math.pi*(10*u.pc)**2)).to(u.Jy)\n",
    "    Mag = -2.5*np.log10(S/(3631*(u.Jy)))\n",
    "    return Mag"
   ]
  },
  {
   "cell_type": "code",
   "execution_count": null,
   "metadata": {
    "collapsed": true
   },
   "outputs": [],
   "source": []
  }
 ],
 "metadata": {
  "kernelspec": {
   "display_name": "Python 3",
   "language": "python",
   "name": "python3"
  },
  "language_info": {
   "codemirror_mode": {
    "name": "ipython",
    "version": 3
   },
   "file_extension": ".py",
   "mimetype": "text/x-python",
   "name": "python",
   "nbconvert_exporter": "python",
   "pygments_lexer": "ipython3",
   "version": "3.4.4"
  }
 },
 "nbformat": 4,
 "nbformat_minor": 0
}
