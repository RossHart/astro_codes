{
 "cells": [
  {
   "cell_type": "markdown",
   "metadata": {},
   "source": [
    "# A _consistent_ method for combining the data from 2 catalogues"
   ]
  },
  {
   "cell_type": "code",
   "execution_count": 1,
   "metadata": {
    "collapsed": true
   },
   "outputs": [],
   "source": [
    "from astropy.table import Table, join\n",
    "import numpy as np\n",
    "import math\n",
    "\n",
    "%matplotlib inline\n",
    "import matplotlib as mpl\n",
    "from matplotlib import pyplot as plt\n",
    "# better-looking plots\n",
    "plt.rcParams['font.family'] = 'serif'\n",
    "plt.rcParams['figure.figsize'] = (10.0, 8)\n",
    "plt.rcParams['font.size'] = 18\n",
    "mpl.ticker.AutoLocator.default_params['nbins'] = 5\n",
    "mpl.ticker.AutoLocator.default_params['prune'] = 'both'\n",
    "mpl.rcParams['ps.useafm'] = True\n",
    "mpl.rcParams['pdf.use14corefonts'] = True\n",
    "mpl.rcParams['text.usetex'] = True\n",
    "\n",
    "from astropy.coordinates import SkyCoord\n",
    "from astropy import units as u"
   ]
  },
  {
   "cell_type": "code",
   "execution_count": 2,
   "metadata": {
    "collapsed": true
   },
   "outputs": [],
   "source": [
    "reference_name = '../../fits/full_sample_debiased_w_low_z.fits'\n",
    "match_name = '../../fits/NSA/nsa_v0_1_2.fits'"
   ]
  },
  {
   "cell_type": "markdown",
   "metadata": {},
   "source": [
    "Load the data:"
   ]
  },
  {
   "cell_type": "code",
   "execution_count": 3,
   "metadata": {
    "collapsed": false
   },
   "outputs": [],
   "source": [
    "reference_data = Table.read(reference_name)\n",
    "match_data = Table.read(match_name)"
   ]
  },
  {
   "cell_type": "code",
   "execution_count": null,
   "metadata": {
    "collapsed": false
   },
   "outputs": [],
   "source": [
    "def match_sky(reference_data,match_data,reference_radec=['ra','dec'],match_radec=['ra','dec']):\n",
    "    \n",
    "    '''---Find the matches between 2 sets of ra+dec points---\n",
    "    \n",
    "    Inputs:\n",
    "    -------\n",
    "    reference_data: usually the catlogue we wish to match to (eg. galaxies in GZ).\n",
    "    \n",
    "    match_data: usually a subsidiary dataset, eg. detections in AFALFA, WISE, ...\n",
    "    \n",
    "    reference_radec, match_radec: names of the columns that contain ra+dec (in degrees).\n",
    "    \n",
    "    Outputs:\n",
    "    --------\n",
    "    ids: 3 column catalogue of 'match index', 'reference index' and 'separations' (in degrees).   \n",
    "    '''\n",
    "    \n",
    "    reference_ra, reference_dec = [np.array(reference_data[i]) for i in reference_radec]\n",
    "    match_ra, match_dec = [np.array(match_data[i]) for i in match_radec]\n",
    "    \n",
    "    reference_coord = SkyCoord(ra=reference_ra*u.degree, dec=reference_dec*u.degree) \n",
    "    match_coord = SkyCoord(ra=match_ra*u.degree, dec=match_dec*u.degree)\n",
    "    idx, sep, _ = match_coord.match_to_catalog_sky(reference_coord)\n",
    "    match_idx = np.arange(len(match_data))\n",
    "    ids = Table(np.array([match_idx,idx,sep.arcsecond]).T\n",
    "                ,names=('match_index','reference_index','separation'))\n",
    "    \n",
    "    print('{} galaxies in the reference catalogue'.format(len(reference_data)))\n",
    "    print('{} galaxies in the match catalogue'.format(len(match_data)))\n",
    "    print('---> {} matches in toal'.format(len(ids)))\n",
    "    \n",
    "    return ids\n",
    "\n",
    "\n",
    "def match_ids(reference_data,match_data,reference_column='id',match_column='id'):\n",
    "    \n",
    "    '''\n",
    "    ---Find the matches between 2 sets of IDs points---\n",
    "    \n",
    "    Inputs:\n",
    "    -------\n",
    "    reference_data: usually the catlogue we wish to match to (eg. galaxies in GZ).\n",
    "    \n",
    "    match_data: usually a subsidiary dataset, eg. detections in AFALFA, WISE, ...\n",
    "    \n",
    "    reference_column, match_column: names of the columns that contain the IDs (eg. DR7 ids).\n",
    "    \n",
    "    Outputs:\n",
    "    --------\n",
    "    ids: 3 column catalogue of 'match index', 'reference index' and 'id'.   \n",
    "    '''\n",
    "    \n",
    "    reference_indices = np.arange(len(reference_data))\n",
    "    match_indices = np.arange(len(match_data))\n",
    "    \n",
    "    reference_table = Table(np.array([reference_indices,reference_data[reference_column]]).T,\n",
    "                            names=('reference_index','id'))\n",
    "    match_table = Table(np.array([match_indices,match_data[match_column]]).T,\n",
    "                        names=('match_index','id'))\n",
    "    \n",
    "    ids = join(reference_table, match_table, keys='id')\n",
    "    \n",
    "    print('{} galaxies in the reference catalogue'.format(len(reference_data)))\n",
    "    print('{} galaxies in the match catalogue'.format(len(match_data)))\n",
    "    print('---> {} matches in toal'.format(len(ids)))\n",
    "    \n",
    "    return ids\n",
    "\n",
    "\n",
    "def keep_good_matches(matches,max_separation=1):\n",
    "    \n",
    "    order = np.argsort(matches['separation'])\n",
    "    ordered_matches = matches[order]\n",
    "    _, unique_idx = np.unique(matches['reference_index'],return_index=True)\n",
    "    good_matches = ordered_matches[unique_idx]\n",
    "    if max_separation != None:\n",
    "        good_matches = good_matches[good_matches['separation'] <= max_separation]\n",
    "        \n",
    "    print('---> {} unique matches of < {} arcsec'.format(len(good_matches),max_separation))\n",
    "    \n",
    "    return good_matches\n",
    "\n",
    "\n",
    "def check_redshift(reference_data,match_data,matches,z_names=['z','z'],max_separation=0.01):\n",
    "    \n",
    "    reference_z = reference_data[matches['reference_index'].astype(int)][z_names[0]]\n",
    "    match_z = match_data[matches['match_index'].astype(int)][z_names[1]]\n",
    "    delta_z = np.abs(reference_z-match_z)\n",
    "    redshift_ok = delta_z <= max_separation\n",
    "    good_matches = matches[redshift_ok]\n",
    "    \n",
    "    print('---> {} unique matches of delta-z < {}'.format(len(good_matches),max_separation))\n",
    "    \n",
    "    return good_matches, delta_z\n",
    "\n",
    "\n",
    "def match_sky_restricted(reference_data,match_data,max_separation=10,max_dz=0.01,\n",
    "                         reference_xyz=['ra','dec','z'],match_xyz=['ra','dec','z']):\n",
    "    \n",
    "    '''\n",
    "    ---Find the matches between 2 sets of IDs points, with restrictions---\n",
    "    \n",
    "    This piece of code only returns the _closest_ match, and only the matches that \n",
    "    satidfy a set of matching criteria.\n",
    "    \n",
    "    Inputs:\n",
    "    -------\n",
    "    reference_data: usually the catlogue we wish to match to (eg. galaxies in GZ).\n",
    "    \n",
    "    match_data: usually a subsidiary dataset, eg. detections in AFALFA, WISE, ...\n",
    "    \n",
    "    max_separation: maximum separation of objects in arcsec.\n",
    "    \n",
    "    max_dz: max difference in redshift. If set to 'None', then no redshift cut \n",
    "    is applied.\n",
    "    \n",
    "    reference_xyz,match_xyz: columns that contain ra,dec and z of the data. If \n",
    "    only 2 strings are passed in either case, no redshift cut is applied.\n",
    "    \n",
    "    Outputs:\n",
    "    --------\n",
    "    good_ids: 3 column catalogue of 'match index', 'reference index' and 'id'.   \n",
    "    '''\n",
    "    \n",
    "    print('{} galaxies in the reference catalogue'.format(len(reference_data)))\n",
    "    print('{} galaxies in the match catalogue'.format(len(match_data)))\n",
    "    \n",
    "    z_names = [reference_xyz[-1],match_xyz[-1]]\n",
    "    reference_radec = reference_xyz[:2]\n",
    "    match_radec = match_xyz[:2]\n",
    "    \n",
    "    ids = sky_match(reference_data,match_data,reference_radec,match_radec)\n",
    "    good_ids = keep_good_matches(ids,max_separation)\n",
    "    if (max_dz != None) & (len(reference_xyz) == 3) & (len(match_xyz) == 3):\n",
    "        good_ids, dz = check_redshift(reference_data,match_data,good_ids,z_names,max_dz)\n",
    "    else:\n",
    "        print('*No z-cut performed!')\n",
    "        \n",
    "    return good_ids\n",
    "\n",
    "\n",
    "def make_matched_catalogue(reference_data,match_data,ids):\n",
    "    \n",
    "    '''\n",
    "    --- Create a catalogue of 'match' data that aligns perfectly with the reference\n",
    "    catalogue---\n",
    "    \n",
    "    Inputs:\n",
    "    -------\n",
    "    reference_data: usually the catlogue we wish to match to (eg. galaxies in GZ).\n",
    "    \n",
    "    match_data: usually a subsidiary dataset, eg. detections in AFALFA, WISE, ...\n",
    "    \n",
    "    ids: an output from either match_sky(), restricted_match_sky() or match_ids().\n",
    "    \n",
    "    Outputs:\n",
    "    --------\n",
    "    match_table: table with the _columns_ of match data, matched to the reference \n",
    "    data catalogue. The 'mask' column provides simple access to whether the data \n",
    "    was matched or not.\n",
    "    '''\n",
    "    \n",
    "    columns = match_data.colnames\n",
    "    match_table = Table()\n",
    "    \n",
    "    mask = np.zeros(len(reference_data),dtype='bool')\n",
    "    mask[good_ids['reference_index'].astype(int)] = True\n",
    "    match_table['mask'] = mask\n",
    "    \n",
    "    for c in columns:\n",
    "        if 'str' not in match_data[c].dtype.name: # only keep data which isn't a string!\n",
    "            column_data = np.ones(len(reference_data))*(-999)\n",
    "            column_data[good_ids['reference_index'].astype(int)] = match_data[c][good_ids['match_index'].astype(int)]\n",
    "            match_table[c] = column_data\n",
    "            \n",
    "    return match_table"
   ]
  },
  {
   "cell_type": "code",
   "execution_count": null,
   "metadata": {
    "collapsed": false
   },
   "outputs": [],
   "source": [
    "_ = match_sky_restricted(reference_data,match_data,\n",
    "                         reference_xyz=['ra_1','dec_1','REDSHIFT_1'],\n",
    "                         match_xyz=['RACAT','DECCAT','Z'])"
   ]
  },
  {
   "cell_type": "code",
   "execution_count": null,
   "metadata": {
    "collapsed": false
   },
   "outputs": [],
   "source": [
    "_c = make_matched_catalogue(reference_data,match_data,_)"
   ]
  },
  {
   "cell_type": "code",
   "execution_count": null,
   "metadata": {
    "collapsed": true
   },
   "outputs": [],
   "source": [
    "fig,axarr = plt.subplots(1,2,figsize=(10,5))\n",
    "_ = axarr[0].hist(good_ids['separation'],bins=np.linspace(0,1,100),histtype='stepfilled',alpha=0.5)\n",
    "_ = axarr[1].hist(dz,bins=np.linspace(0,0.001,100),histtype='stepfilled',alpha=0.5)\n",
    "\n",
    "axarr[0].set_ylabel('$N_\\mathrm{matches}$')\n",
    "axarr[0].set_xlabel('Separation (arcsec)')\n",
    "axarr[1].set_xlabel('$\\Delta z$')"
   ]
  }
 ],
 "metadata": {
  "kernelspec": {
   "display_name": "Python 3",
   "language": "python",
   "name": "python3"
  },
  "language_info": {
   "codemirror_mode": {
    "name": "ipython",
    "version": 3
   },
   "file_extension": ".py",
   "mimetype": "text/x-python",
   "name": "python",
   "nbconvert_exporter": "python",
   "pygments_lexer": "ipython3",
   "version": "3.4.4"
  }
 },
 "nbformat": 4,
 "nbformat_minor": 0
}
